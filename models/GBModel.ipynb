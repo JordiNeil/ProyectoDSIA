{
 "cells": [
  {
   "cell_type": "code",
   "execution_count": 44,
   "metadata": {},
   "outputs": [],
   "source": [
    "import pandas as pd\n",
    "from sklearn.compose import ColumnTransformer\n",
    "from sklearn.pipeline import Pipeline\n",
    "from sklearn.impute import SimpleImputer\n",
    "from sklearn.preprocessing import StandardScaler, OneHotEncoder\n",
    "from sklearn.ensemble import GradientBoostingRegressor\n",
    "from sklearn.model_selection import train_test_split, GridSearchCV\n",
    "from sklearn.metrics import mean_squared_error, r2_score\n",
    "import matplotlib.pyplot as plt\n",
    "import seaborn as sns"
   ]
  },
  {
   "cell_type": "code",
   "execution_count": 2,
   "metadata": {},
   "outputs": [],
   "source": [
    "# Your selected columns\n",
    "selected_num_columns = ['LotFrontage', 'LotArea', 'TotalBsmtSF', 'GrLivArea', 'SalePrice']\n",
    "categorical_columns_filtered = ['Street', 'LandContour', 'LandSlope', 'Utilities', 'Neighborhood',\n",
    "                                  'Condition1', 'Condition2', 'HouseStyle', 'BldgType', 'OverallQual',\n",
    "                                  'OverallCond', 'RoofStyle', 'Exterior1st', 'ExterCond', 'BsmtCond',\n",
    "                                  'BsmtFinType1', 'CentralAir', 'Heating', 'KitchenQual',\n",
    "                                  'TotRmsAbvGrd', 'GarageType', 'GarageCond', 'PavedDrive',\n",
    "                                  'SaleType', 'SaleCondition', 'Fireplaces', 'GarageCars']\n",
    "\n",
    "categorical_columns_filtered = [ 'LandSlope',  'Neighborhood',\n",
    "                                  'Condition1',  'HouseStyle', 'BldgType', 'OverallQual',\n",
    "                                  'OverallCond', 'RoofStyle', 'Exterior1st', 'ExterCond', 'BsmtCond',\n",
    "                                  'BsmtFinType1', 'KitchenQual',\n",
    "                                  'TotRmsAbvGrd', 'GarageType',  'PavedDrive',\n",
    "                                  'SaleType', 'SaleCondition', 'Fireplaces', 'GarageCars']"
   ]
  },
  {
   "cell_type": "code",
   "execution_count": 3,
   "metadata": {},
   "outputs": [],
   "source": [
    "train_set = pd.read_csv('../data/train.csv')\n",
    "test_set = pd.read_csv('../data/test.csv')"
   ]
  },
  {
   "cell_type": "code",
   "execution_count": 4,
   "metadata": {},
   "outputs": [
    {
     "name": "stdout",
     "output_type": "stream",
     "text": [
      "HouseStyle\n",
      "1Story    726\n",
      "2Story    445\n",
      "1.5Fin    154\n",
      "SLvl       65\n",
      "SFoyer     37\n",
      "1.5Unf     14\n",
      "2.5Unf     11\n",
      "2.5Fin      8\n",
      "Name: count, dtype: int64\n",
      "BldgType\n",
      "1Fam      1220\n",
      "TwnhsE     114\n",
      "Duplex      52\n",
      "Twnhs       43\n",
      "2fmCon      31\n",
      "Name: count, dtype: int64\n",
      "OverallQual\n",
      "5     397\n",
      "6     374\n",
      "7     319\n",
      "8     168\n",
      "4     116\n",
      "9      43\n",
      "3      20\n",
      "10     18\n",
      "2       3\n",
      "1       2\n",
      "Name: count, dtype: int64\n",
      "OverallCond\n",
      "5    821\n",
      "6    252\n",
      "7    205\n",
      "8     72\n",
      "4     57\n",
      "3     25\n",
      "9     22\n",
      "2      5\n",
      "1      1\n",
      "Name: count, dtype: int64\n",
      "RoofStyle\n",
      "Gable      1141\n",
      "Hip         286\n",
      "Flat         13\n",
      "Gambrel      11\n",
      "Mansard       7\n",
      "Shed          2\n",
      "Name: count, dtype: int64\n",
      "Exterior1st\n",
      "VinylSd    515\n",
      "HdBoard    222\n",
      "MetalSd    220\n",
      "Wd Sdng    206\n",
      "Plywood    108\n",
      "CemntBd     61\n",
      "BrkFace     50\n",
      "WdShing     26\n",
      "Stucco      25\n",
      "AsbShng     20\n",
      "BrkComm      2\n",
      "Stone        2\n",
      "AsphShn      1\n",
      "ImStucc      1\n",
      "CBlock       1\n",
      "Name: count, dtype: int64\n",
      "ExterCond\n",
      "TA    1282\n",
      "Gd     146\n",
      "Fa      28\n",
      "Ex       3\n",
      "Po       1\n",
      "Name: count, dtype: int64\n",
      "BsmtCond\n",
      "TA    1311\n",
      "Gd      65\n",
      "Fa      45\n",
      "Po       2\n",
      "Name: count, dtype: int64\n",
      "BsmtFinType1\n",
      "Unf    430\n",
      "GLQ    418\n",
      "ALQ    220\n",
      "BLQ    148\n",
      "Rec    133\n",
      "LwQ     74\n",
      "Name: count, dtype: int64\n",
      "KitchenQual\n",
      "TA    735\n",
      "Gd    586\n",
      "Ex    100\n",
      "Fa     39\n",
      "Name: count, dtype: int64\n",
      "TotRmsAbvGrd\n",
      "6     402\n",
      "7     329\n",
      "5     275\n",
      "8     187\n",
      "4      97\n",
      "9      75\n",
      "10     47\n",
      "11     18\n",
      "3      17\n",
      "12     11\n",
      "2       1\n",
      "14      1\n",
      "Name: count, dtype: int64\n",
      "GarageType\n",
      "Attchd     870\n",
      "Detchd     387\n",
      "BuiltIn     88\n",
      "Basment     19\n",
      "CarPort      9\n",
      "2Types       6\n",
      "Name: count, dtype: int64\n",
      "PavedDrive\n",
      "Y    1340\n",
      "N      90\n",
      "P      30\n",
      "Name: count, dtype: int64\n",
      "SaleType\n",
      "WD       1267\n",
      "New       122\n",
      "COD        43\n",
      "ConLD       9\n",
      "ConLI       5\n",
      "ConLw       5\n",
      "CWD         4\n",
      "Oth         3\n",
      "Con         2\n",
      "Name: count, dtype: int64\n",
      "SaleCondition\n",
      "Normal     1198\n",
      "Partial     125\n",
      "Abnorml     101\n",
      "Family       20\n",
      "Alloca       12\n",
      "AdjLand       4\n",
      "Name: count, dtype: int64\n",
      "Fireplaces\n",
      "0    690\n",
      "1    650\n",
      "2    115\n",
      "3      5\n",
      "Name: count, dtype: int64\n",
      "GarageCars\n",
      "2    824\n",
      "1    369\n",
      "3    181\n",
      "0     81\n",
      "4      5\n",
      "Name: count, dtype: int64\n"
     ]
    }
   ],
   "source": [
    "for column in categorical_columns_filtered[3:]:\n",
    "    print(train_set[column].value_counts())\n",
    "    "
   ]
  },
  {
   "cell_type": "code",
   "execution_count": 6,
   "metadata": {},
   "outputs": [],
   "source": [
    "# Define the target and features\n",
    "# SalePrice is the target, so exclude it from features.\n",
    "numeric_features = [col for col in selected_num_columns if col != 'SalePrice']\n",
    "X = train_set[[col for col in selected_num_columns if col != 'SalePrice'] + categorical_columns_filtered]\n",
    "y = train_set['SalePrice']"
   ]
  },
  {
   "cell_type": "code",
   "execution_count": 7,
   "metadata": {},
   "outputs": [],
   "source": [
    "\n",
    "\n",
    "\n",
    "numeric_transformer = Pipeline(steps=[\n",
    "    ('imputer', SimpleImputer(strategy='median')),\n",
    "    ('scaler', StandardScaler())\n",
    "])\n",
    "\n",
    "categorical_transformer = Pipeline(steps=[\n",
    "    ('imputer', SimpleImputer(strategy='most_frequent')),\n",
    "    ('onehot', OneHotEncoder(handle_unknown='ignore'))\n",
    "])\n",
    "\n",
    "# Combine transformations using ColumnTransformer\n",
    "preprocessor = ColumnTransformer(\n",
    "    transformers=[\n",
    "        ('num', numeric_transformer, numeric_features),\n",
    "        ('cat', categorical_transformer, categorical_columns_filtered)\n",
    "    ]\n",
    ")\n"
   ]
  },
  {
   "cell_type": "code",
   "execution_count": 8,
   "metadata": {},
   "outputs": [],
   "source": [
    "# Create a pipeline with the preprocessor and the Gradient Boosting Regressor\n",
    "gbr_pipeline = Pipeline(steps=[\n",
    "    ('preprocessor', preprocessor),\n",
    "    ('gbr', GradientBoostingRegressor(random_state=42))\n",
    "])"
   ]
  },
  {
   "cell_type": "code",
   "execution_count": 12,
   "metadata": {},
   "outputs": [],
   "source": [
    "X_train, X_test, y_train, y_test = train_test_split(X, y, test_size=0.2, random_state=42)\n"
   ]
  },
  {
   "cell_type": "code",
   "execution_count": 27,
   "metadata": {},
   "outputs": [],
   "source": [
    "param_grid = {\n",
    "    'gbr__n_estimators': [100, 200, 300],\n",
    "    'gbr__learning_rate': [0.01, 0.05, 0.1],\n",
    "    'gbr__max_depth': [3, 5, 7]\n",
    "}"
   ]
  },
  {
   "cell_type": "code",
   "execution_count": null,
   "metadata": {},
   "outputs": [],
   "source": []
  },
  {
   "cell_type": "code",
   "execution_count": 31,
   "metadata": {},
   "outputs": [],
   "source": [
    "grid_search = GridSearchCV(\n",
    "    gbr_pipeline,\n",
    "    param_grid,\n",
    "    cv=5,\n",
    "    scoring=['neg_mean_squared_error', 'r2'], \n",
    "    refit='neg_mean_squared_error',  \n",
    "    n_jobs=-1\n",
    ")\n",
    "\n",
    "\n"
   ]
  },
  {
   "cell_type": "code",
   "execution_count": 32,
   "metadata": {},
   "outputs": [
    {
     "name": "stdout",
     "output_type": "stream",
     "text": [
      "dict_keys(['memory', 'steps', 'verbose', 'preprocessor', 'gbr', 'preprocessor__force_int_remainder_cols', 'preprocessor__n_jobs', 'preprocessor__remainder', 'preprocessor__sparse_threshold', 'preprocessor__transformer_weights', 'preprocessor__transformers', 'preprocessor__verbose', 'preprocessor__verbose_feature_names_out', 'preprocessor__num', 'preprocessor__cat', 'preprocessor__num__memory', 'preprocessor__num__steps', 'preprocessor__num__verbose', 'preprocessor__num__imputer', 'preprocessor__num__scaler', 'preprocessor__num__imputer__add_indicator', 'preprocessor__num__imputer__copy', 'preprocessor__num__imputer__fill_value', 'preprocessor__num__imputer__keep_empty_features', 'preprocessor__num__imputer__missing_values', 'preprocessor__num__imputer__strategy', 'preprocessor__num__scaler__copy', 'preprocessor__num__scaler__with_mean', 'preprocessor__num__scaler__with_std', 'preprocessor__cat__memory', 'preprocessor__cat__steps', 'preprocessor__cat__verbose', 'preprocessor__cat__imputer', 'preprocessor__cat__onehot', 'preprocessor__cat__imputer__add_indicator', 'preprocessor__cat__imputer__copy', 'preprocessor__cat__imputer__fill_value', 'preprocessor__cat__imputer__keep_empty_features', 'preprocessor__cat__imputer__missing_values', 'preprocessor__cat__imputer__strategy', 'preprocessor__cat__onehot__categories', 'preprocessor__cat__onehot__drop', 'preprocessor__cat__onehot__dtype', 'preprocessor__cat__onehot__feature_name_combiner', 'preprocessor__cat__onehot__handle_unknown', 'preprocessor__cat__onehot__max_categories', 'preprocessor__cat__onehot__min_frequency', 'preprocessor__cat__onehot__sparse_output', 'gbr__alpha', 'gbr__ccp_alpha', 'gbr__criterion', 'gbr__init', 'gbr__learning_rate', 'gbr__loss', 'gbr__max_depth', 'gbr__max_features', 'gbr__max_leaf_nodes', 'gbr__min_impurity_decrease', 'gbr__min_samples_leaf', 'gbr__min_samples_split', 'gbr__min_weight_fraction_leaf', 'gbr__n_estimators', 'gbr__n_iter_no_change', 'gbr__random_state', 'gbr__subsample', 'gbr__tol', 'gbr__validation_fraction', 'gbr__verbose', 'gbr__warm_start'])\n"
     ]
    }
   ],
   "source": [
    "print(gbr_pipeline.get_params().keys())"
   ]
  },
  {
   "cell_type": "code",
   "execution_count": 34,
   "metadata": {},
   "outputs": [
    {
     "name": "stdout",
     "output_type": "stream",
     "text": [
      "Best parameters: {'gbr__learning_rate': 0.1, 'gbr__max_depth': 3, 'gbr__n_estimators': 300}\n",
      "Best negative MSE: -960946404.1040268\n"
     ]
    }
   ],
   "source": [
    "# Fit grid search on the training data\n",
    "grid_search.fit(X_train, y_train)\n",
    "# Output the best hyperparameters and score\n",
    "print(\"Best parameters:\", grid_search.best_params_)\n",
    "print(\"Best negative MSE:\", grid_search.best_score_)"
   ]
  },
  {
   "cell_type": "code",
   "execution_count": 40,
   "metadata": {},
   "outputs": [],
   "source": [
    "from sklearn.metrics import mean_squared_error, r2_score,root_mean_squared_error"
   ]
  },
  {
   "cell_type": "code",
   "execution_count": 41,
   "metadata": {},
   "outputs": [],
   "source": [
    "y_pred = grid_search.predict(X_test)\n",
    "mse = mean_squared_error(y_test, y_pred)\n",
    "rmse = root_mean_squared_error(y_test, y_pred)\n",
    "r2 = r2_score(y_test, y_pred)\n"
   ]
  },
  {
   "cell_type": "code",
   "execution_count": 42,
   "metadata": {},
   "outputs": [
    {
     "data": {
      "text/plain": [
       "29275.513748025904"
      ]
     },
     "execution_count": 42,
     "metadata": {},
     "output_type": "execute_result"
    }
   ],
   "source": [
    "rmse"
   ]
  },
  {
   "cell_type": "code",
   "execution_count": 38,
   "metadata": {},
   "outputs": [
    {
     "data": {
      "text/plain": [
       "0.8882634607628827"
      ]
     },
     "execution_count": 38,
     "metadata": {},
     "output_type": "execute_result"
    }
   ],
   "source": [
    "r2"
   ]
  },
  {
   "cell_type": "code",
   "execution_count": 45,
   "metadata": {},
   "outputs": [
    {
     "data": {
      "image/png": "[encoded data removed]",
      "text/plain": [
       "<Figure size 1000x600 with 1 Axes>"
      ]
     },
     "metadata": {},
     "output_type": "display_data"
    }
   ],
   "source": [
    "# Feature importance plot using the best model\n",
    "\n",
    "# Scatter plot of predicted vs actual values\n",
    "plt.figure(figsize=(10, 6))\n",
    "plt.scatter(y_test, y_pred, alpha=0.5)\n",
    "plt.plot([y_test.min(), y_test.max()], [y_test.min(), y_test.max()], 'r--', lw=2)\n",
    "plt.xlabel('Actual Sale Price')\n",
    "plt.ylabel('Predicted Sale Price')\n",
    "plt.title('Actual vs Predicted Sale Prices')\n",
    "plt.tight_layout()\n",
    "plt.show()"
   ]
  },
  {
   "cell_type": "code",
   "execution_count": null,
   "metadata": {},
   "outputs": [],
   "source": []
  }
 ],
 "metadata": {
  "kernelspec": {
   "display_name": "base",
   "language": "python",
   "name": "python3"
  },
  "language_info": {
   "codemirror_mode": {
    "name": "ipython",
    "version": 3
   },
   "file_extension": ".py",
   "mimetype": "text/x-python",
   "name": "python",
   "nbconvert_exporter": "python",
   "pygments_lexer": "ipython3",
   "version": "3.12.7"
  }
 },
 "nbformat": 4,
 "nbformat_minor": 2
}
