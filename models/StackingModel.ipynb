{
 "cells": [
  {
   "cell_type": "code",
   "execution_count": 2,
   "metadata": {},
   "outputs": [],
   "source": [
    "import pandas as pd\n",
    "from sklearn.compose import ColumnTransformer\n",
    "from sklearn.pipeline import Pipeline\n",
    "from sklearn.impute import SimpleImputer\n",
    "from sklearn.preprocessing import StandardScaler, OneHotEncoder\n",
    "from sklearn.linear_model import Ridge, Lasso, LinearRegression\n",
    "from sklearn.ensemble import GradientBoostingRegressor, StackingRegressor\n",
    "from sklearn.model_selection import train_test_split, cross_val_score"
   ]
  },
  {
   "cell_type": "code",
   "execution_count": 3,
   "metadata": {},
   "outputs": [],
   "source": [
    "# Your selected columns\n",
    "selected_num_columns = ['LotFrontage', 'LotArea', 'TotalBsmtSF', 'GrLivArea', 'SalePrice']\n",
    "categorical_columns_filtered = ['Street', 'LandContour', 'LandSlope', 'Utilities', 'Neighborhood',\n",
    "                                  'Condition1', 'Condition2', 'HouseStyle', 'BldgType', 'OverallQual',\n",
    "                                  'OverallCond', 'RoofStyle', 'Exterior1st', 'ExterCond', 'BsmtCond',\n",
    "                                  'BsmtFinType1', 'CentralAir', 'Heating', 'KitchenQual',\n",
    "                                  'TotRmsAbvGrd', 'GarageType', 'GarageCond', 'PavedDrive',\n",
    "                                  'SaleType', 'SaleCondition', 'Fireplaces', 'GarageCars']"
   ]
  },
  {
   "cell_type": "code",
   "execution_count": 4,
   "metadata": {},
   "outputs": [],
   "source": [
    "train_set = pd.read_csv('../data/train.csv')\n",
    "test_set = pd.read_csv('../data/test.csv')"
   ]
  },
  {
   "cell_type": "code",
   "execution_count": 8,
   "metadata": {},
   "outputs": [],
   "source": [
    "# Define the target and features\n",
    "# SalePrice is the target, so exclude it from features.\n",
    "X = train_set[[col for col in selected_num_columns if col != 'SalePrice'] + categorical_columns_filtered]\n",
    "y = train_set['SalePrice']"
   ]
  },
  {
   "cell_type": "code",
   "execution_count": 9,
   "metadata": {},
   "outputs": [
    {
     "name": "stderr",
     "output_type": "stream",
     "text": [
      "c:\\Users\\maryi\\anaconda3\\Lib\\site-packages\\sklearn\\linear_model\\_coordinate_descent.py:658: ConvergenceWarning: Objective did not converge. You might want to increase the number of iterations. Duality gap: 66719729951.07739, tolerance: 696659484.3571945\n",
      "  model = cd_fast.sparse_enet_coordinate_descent(\n",
      "c:\\Users\\maryi\\anaconda3\\Lib\\site-packages\\sklearn\\linear_model\\_coordinate_descent.py:658: ConvergenceWarning: Objective did not converge. You might want to increase the number of iterations. Duality gap: 47916292135.72864, tolerance: 537415025.1745833\n",
      "  model = cd_fast.sparse_enet_coordinate_descent(\n",
      "c:\\Users\\maryi\\anaconda3\\Lib\\site-packages\\sklearn\\linear_model\\_coordinate_descent.py:658: ConvergenceWarning: Objective did not converge. You might want to increase the number of iterations. Duality gap: 112590348325.74149, tolerance: 572016182.2224233\n",
      "  model = cd_fast.sparse_enet_coordinate_descent(\n",
      "c:\\Users\\maryi\\anaconda3\\Lib\\site-packages\\sklearn\\linear_model\\_coordinate_descent.py:658: ConvergenceWarning: Objective did not converge. You might want to increase the number of iterations. Duality gap: 92455060475.99698, tolerance: 525605188.80204767\n",
      "  model = cd_fast.sparse_enet_coordinate_descent(\n",
      "c:\\Users\\maryi\\anaconda3\\Lib\\site-packages\\sklearn\\linear_model\\_coordinate_descent.py:658: ConvergenceWarning: Objective did not converge. You might want to increase the number of iterations. Duality gap: 48336792421.689026, tolerance: 571614666.2949619\n",
      "  model = cd_fast.sparse_enet_coordinate_descent(\n",
      "c:\\Users\\maryi\\anaconda3\\Lib\\site-packages\\sklearn\\linear_model\\_coordinate_descent.py:658: ConvergenceWarning: Objective did not converge. You might want to increase the number of iterations. Duality gap: 59455762683.66412, tolerance: 579592113.9945961\n",
      "  model = cd_fast.sparse_enet_coordinate_descent(\n"
     ]
    },
    {
     "name": "stdout",
     "output_type": "stream",
     "text": [
      "Stacking model R^2 score on test data: 0.893\n"
     ]
    }
   ],
   "source": [
    "\n",
    "\n",
    "\n",
    "\n",
    "\n",
    "# Preprocessing for numerical features: imputation and scaling\n",
    "numeric_transformer = Pipeline(steps=[\n",
    "    ('imputer', SimpleImputer(strategy='median')),\n",
    "    ('scaler', StandardScaler())\n",
    "])\n",
    "\n",
    "# Preprocessing for categorical features: imputation and one-hot encoding\n",
    "categorical_transformer = Pipeline(steps=[\n",
    "    ('imputer', SimpleImputer(strategy='most_frequent')),\n",
    "    ('onehot', OneHotEncoder(handle_unknown='ignore'))\n",
    "])\n",
    "\n",
    "# Combine the numeric and categorical transformations\n",
    "preprocessor = ColumnTransformer(\n",
    "    transformers=[\n",
    "        ('num', numeric_transformer, [col for col in selected_num_columns if col != 'SalePrice']),\n",
    "        ('cat', categorical_transformer, categorical_columns_filtered)\n",
    "    ])\n",
    "\n",
    "# Define base models for stacking\n",
    "base_models = [\n",
    "    ('ridge', Ridge(alpha=1.0)),\n",
    "    ('lasso', Lasso(alpha=0.1)),\n",
    "    ('gbr', GradientBoostingRegressor(n_estimators=100, random_state=42))\n",
    "]\n",
    "\n",
    "# Define the final estimator (meta-model)\n",
    "final_estimator = LinearRegression()\n",
    "\n",
    "# Create the stacking regressor\n",
    "stacking_reg = StackingRegressor(\n",
    "    estimators=base_models,\n",
    "    final_estimator=final_estimator,\n",
    "    cv=5  # using 5-fold cross validation for stacking\n",
    ")\n",
    "\n",
    "# Build a pipeline that first preprocesses the data then fits the stacking regressor\n",
    "stacking_pipeline = Pipeline(steps=[\n",
    "    ('preprocessor', preprocessor),\n",
    "    ('stacking', stacking_reg)\n",
    "])\n",
    "\n",
    "# Split the data into training and testing sets\n",
    "X_train, X_test, y_train, y_test = train_test_split(X, y, test_size=0.2, random_state=42)\n",
    "\n",
    "# Fit the stacking model\n",
    "stacking_pipeline.fit(X_train, y_train)\n",
    "\n",
    "# Evaluate the model\n",
    "score = stacking_pipeline.score(X_test, y_test)\n",
    "print(\"Stacking model R^2 score on test data: {:.3f}\".format(score))\n"
   ]
  },
  {
   "cell_type": "code",
   "execution_count": null,
   "metadata": {},
   "outputs": [],
   "source": []
  }
 ],
 "metadata": {
  "kernelspec": {
   "display_name": "base",
   "language": "python",
   "name": "python3"
  },
  "language_info": {
   "codemirror_mode": {
    "name": "ipython",
    "version": 3
   },
   "file_extension": ".py",
   "mimetype": "text/x-python",
   "name": "python",
   "nbconvert_exporter": "python",
   "pygments_lexer": "ipython3",
   "version": "3.12.7"
  }
 },
 "nbformat": 4,
 "nbformat_minor": 2
}
