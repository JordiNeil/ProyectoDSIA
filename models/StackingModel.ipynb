{
 "cells": [
  {
   "cell_type": "code",
   "execution_count": 55,
   "metadata": {},
   "outputs": [],
   "source": [
    "import pandas as pd\n",
    "from sklearn.compose import ColumnTransformer\n",
    "from sklearn.pipeline import Pipeline\n",
    "from sklearn.impute import SimpleImputer\n",
    "from sklearn.preprocessing import StandardScaler, OneHotEncoder\n",
    "from sklearn.linear_model import Ridge, Lasso, LinearRegression\n",
    "from sklearn.ensemble import GradientBoostingRegressor, StackingRegressor\n",
    "from sklearn.model_selection import train_test_split, cross_val_score\n",
    "from sklearn.model_selection import GridSearchCV\n",
    "import matplotlib.pyplot as plt\n",
    "import seaborn as sns"
   ]
  },
  {
   "cell_type": "code",
   "execution_count": 37,
   "metadata": {},
   "outputs": [],
   "source": [
    "# Your selected columns\n",
    "selected_num_columns = ['LotFrontage', 'LotArea', 'TotalBsmtSF', 'GrLivArea', 'SalePrice']\n",
    "categorical_columns_filtered = ['Street', 'LandContour', 'LandSlope', 'Utilities', 'Neighborhood',\n",
    "                                  'Condition1', 'Condition2', 'HouseStyle', 'BldgType', 'OverallQual',\n",
    "                                  'OverallCond', 'RoofStyle', 'Exterior1st', 'ExterCond', 'BsmtCond',\n",
    "                                  'BsmtFinType1', 'CentralAir', 'Heating', 'KitchenQual',\n",
    "                                  'TotRmsAbvGrd', 'GarageType', 'GarageCond', 'PavedDrive',\n",
    "                                  'SaleType', 'SaleCondition', 'Fireplaces', 'GarageCars']\n",
    "\n",
    "categorical_columns_filtered = [ 'LandSlope',  'Neighborhood',\n",
    "                                  'Condition1',  'HouseStyle', 'BldgType', 'OverallQual',\n",
    "                                  'OverallCond', 'RoofStyle', 'Exterior1st', 'ExterCond', 'BsmtCond',\n",
    "                                  'BsmtFinType1', 'KitchenQual',\n",
    "                                  'TotRmsAbvGrd', 'GarageType',  'PavedDrive',\n",
    "                                  'SaleType', 'SaleCondition', 'Fireplaces', 'GarageCars']"
   ]
  },
  {
   "cell_type": "code",
   "execution_count": 38,
   "metadata": {},
   "outputs": [],
   "source": [
    "train_set = pd.read_csv('../data/train.csv')\n",
    "test_set = pd.read_csv('../data/test.csv')"
   ]
  },
  {
   "cell_type": "code",
   "execution_count": 39,
   "metadata": {},
   "outputs": [
    {
     "name": "stdout",
     "output_type": "stream",
     "text": [
      "HouseStyle\n",
      "1Story    726\n",
      "2Story    445\n",
      "1.5Fin    154\n",
      "SLvl       65\n",
      "SFoyer     37\n",
      "1.5Unf     14\n",
      "2.5Unf     11\n",
      "2.5Fin      8\n",
      "Name: count, dtype: int64\n",
      "BldgType\n",
      "1Fam      1220\n",
      "TwnhsE     114\n",
      "Duplex      52\n",
      "Twnhs       43\n",
      "2fmCon      31\n",
      "Name: count, dtype: int64\n",
      "OverallQual\n",
      "5     397\n",
      "6     374\n",
      "7     319\n",
      "8     168\n",
      "4     116\n",
      "9      43\n",
      "3      20\n",
      "10     18\n",
      "2       3\n",
      "1       2\n",
      "Name: count, dtype: int64\n",
      "OverallCond\n",
      "5    821\n",
      "6    252\n",
      "7    205\n",
      "8     72\n",
      "4     57\n",
      "3     25\n",
      "9     22\n",
      "2      5\n",
      "1      1\n",
      "Name: count, dtype: int64\n",
      "RoofStyle\n",
      "Gable      1141\n",
      "Hip         286\n",
      "Flat         13\n",
      "Gambrel      11\n",
      "Mansard       7\n",
      "Shed          2\n",
      "Name: count, dtype: int64\n",
      "Exterior1st\n",
      "VinylSd    515\n",
      "HdBoard    222\n",
      "MetalSd    220\n",
      "Wd Sdng    206\n",
      "Plywood    108\n",
      "CemntBd     61\n",
      "BrkFace     50\n",
      "WdShing     26\n",
      "Stucco      25\n",
      "AsbShng     20\n",
      "BrkComm      2\n",
      "Stone        2\n",
      "AsphShn      1\n",
      "ImStucc      1\n",
      "CBlock       1\n",
      "Name: count, dtype: int64\n",
      "ExterCond\n",
      "TA    1282\n",
      "Gd     146\n",
      "Fa      28\n",
      "Ex       3\n",
      "Po       1\n",
      "Name: count, dtype: int64\n",
      "BsmtCond\n",
      "TA    1311\n",
      "Gd      65\n",
      "Fa      45\n",
      "Po       2\n",
      "Name: count, dtype: int64\n",
      "BsmtFinType1\n",
      "Unf    430\n",
      "GLQ    418\n",
      "ALQ    220\n",
      "BLQ    148\n",
      "Rec    133\n",
      "LwQ     74\n",
      "Name: count, dtype: int64\n",
      "KitchenQual\n",
      "TA    735\n",
      "Gd    586\n",
      "Ex    100\n",
      "Fa     39\n",
      "Name: count, dtype: int64\n",
      "TotRmsAbvGrd\n",
      "6     402\n",
      "7     329\n",
      "5     275\n",
      "8     187\n",
      "4      97\n",
      "9      75\n",
      "10     47\n",
      "11     18\n",
      "3      17\n",
      "12     11\n",
      "2       1\n",
      "14      1\n",
      "Name: count, dtype: int64\n",
      "GarageType\n",
      "Attchd     870\n",
      "Detchd     387\n",
      "BuiltIn     88\n",
      "Basment     19\n",
      "CarPort      9\n",
      "2Types       6\n",
      "Name: count, dtype: int64\n",
      "PavedDrive\n",
      "Y    1340\n",
      "N      90\n",
      "P      30\n",
      "Name: count, dtype: int64\n",
      "SaleType\n",
      "WD       1267\n",
      "New       122\n",
      "COD        43\n",
      "ConLD       9\n",
      "ConLI       5\n",
      "ConLw       5\n",
      "CWD         4\n",
      "Oth         3\n",
      "Con         2\n",
      "Name: count, dtype: int64\n",
      "SaleCondition\n",
      "Normal     1198\n",
      "Partial     125\n",
      "Abnorml     101\n",
      "Family       20\n",
      "Alloca       12\n",
      "AdjLand       4\n",
      "Name: count, dtype: int64\n",
      "Fireplaces\n",
      "0    690\n",
      "1    650\n",
      "2    115\n",
      "3      5\n",
      "Name: count, dtype: int64\n",
      "GarageCars\n",
      "2    824\n",
      "1    369\n",
      "3    181\n",
      "0     81\n",
      "4      5\n",
      "Name: count, dtype: int64\n"
     ]
    }
   ],
   "source": [
    "for column in categorical_columns_filtered[3:]:\n",
    "    print(train_set[column].value_counts())\n",
    "    "
   ]
  },
  {
   "cell_type": "code",
   "execution_count": 40,
   "metadata": {},
   "outputs": [],
   "source": [
    "# Define the target and features\n",
    "# SalePrice is the target, so exclude it from features.\n",
    "X = train_set[[col for col in selected_num_columns if col != 'SalePrice'] + categorical_columns_filtered]\n",
    "y = train_set['SalePrice']"
   ]
  },
  {
   "cell_type": "code",
   "execution_count": 60,
   "metadata": {},
   "outputs": [],
   "source": [
    "import xgboost as xgb"
   ]
  },
  {
   "cell_type": "code",
   "execution_count": 70,
   "metadata": {},
   "outputs": [],
   "source": [
    "\n",
    "\n",
    "\n",
    "\n",
    "\n",
    "# Preprocessing for numerical features: imputation and scaling\n",
    "numeric_transformer = Pipeline(steps=[\n",
    "    ('imputer', SimpleImputer(strategy='median')),\n",
    "    ('scaler', StandardScaler())\n",
    "])\n",
    "\n",
    "# Preprocessing for categorical features: imputation and one-hot encoding\n",
    "categorical_transformer = Pipeline(steps=[\n",
    "    ('imputer', SimpleImputer(strategy='most_frequent')),\n",
    "    ('onehot', OneHotEncoder(handle_unknown='ignore'))\n",
    "])\n",
    "\n",
    "# Combine the numeric and categorical transformations\n",
    "preprocessor = ColumnTransformer(\n",
    "    transformers=[\n",
    "        ('num', numeric_transformer, [col for col in selected_num_columns if col != 'SalePrice']),\n",
    "        ('cat', categorical_transformer, categorical_columns_filtered)\n",
    "    ])\n",
    "\n",
    "# Define base models for stacking\n",
    "base_models = [\n",
    "    ('ridge', Ridge(alpha=1.0)),\n",
    "    ('xgb', xgb.XGBRegressor(n_estimators=100, random_state=42)),\n",
    "    ('lasso', Lasso(alpha=0.1))\n",
    "    #('gbr', GradientBoostingRegressor(n_estimators=100, random_state=42))\n",
    "]\n",
    "\n",
    "# Define the final estimator (meta-model)\n",
    "final_estimator = LinearRegression()\n",
    "\n",
    "# Create the stacking regressor\n",
    "stacking_reg = StackingRegressor(\n",
    "    estimators=base_models,\n",
    "    final_estimator=final_estimator,\n",
    "    cv=5  # using 5-fold cross validation for stacking\n",
    ")\n",
    "\n",
    "# Build a pipeline that first preprocesses the data then fits the stacking regressor\n",
    "stacking_pipeline = Pipeline(steps=[\n",
    "    ('preprocessor', preprocessor),\n",
    "    ('stacking', stacking_reg)\n",
    "])\n",
    "\n"
   ]
  },
  {
   "cell_type": "code",
   "execution_count": 62,
   "metadata": {},
   "outputs": [],
   "source": [
    "X_train, X_test, y_train, y_test = train_test_split(X, y, test_size=0.2, random_state=42)\n"
   ]
  },
  {
   "cell_type": "code",
   "execution_count": 71,
   "metadata": {},
   "outputs": [],
   "source": [
    "param_grid = {\n",
    "    # Tuning hyperparameters for base estimators:\n",
    "    'stacking__ridge__alpha': [0.01, 0.1, 1.0, 10.0],\n",
    "    'stacking__lasso__alpha': [0.001, 0.01, 0.1, 1.0],  # Uncomment if you want to tune Lasso\n",
    "    #'stacking__gbr__n_estimators': [100, 200, 300],\n",
    "    'stacking__xgb__n_estimators': [100, 200, 300],\n",
    "    'stacking__xgb__learning_rate': [0.01, 0.05, 0.1],\n",
    "    \n",
    "    # Tuning a parameter for the final estimator:\n",
    "    'stacking__final_estimator__fit_intercept': [True, False]\n",
    "}"
   ]
  },
  {
   "cell_type": "code",
   "execution_count": 72,
   "metadata": {},
   "outputs": [],
   "source": [
    "grid_search = GridSearchCV(\n",
    "    stacking_pipeline,  # our pipeline that includes preprocessing and the stacking regressor\n",
    "    param_grid, \n",
    "    cv=5,                # number of cross-validation folds\n",
    "    scoring=['neg_mean_squared_error', 'r2'], \n",
    "    refit='neg_mean_squared_error',       # scoring metric (adjust as needed)\n",
    "    n_jobs=-1            # use all available cores\n",
    ")\n",
    "\n"
   ]
  },
  {
   "cell_type": "code",
   "execution_count": 73,
   "metadata": {},
   "outputs": [
    {
     "name": "stderr",
     "output_type": "stream",
     "text": [
      "c:\\Users\\maryi\\anaconda3\\Lib\\site-packages\\numpy\\ma\\core.py:2820: RuntimeWarning: invalid value encountered in cast\n",
      "  _data = np.array(data, dtype=dtype, copy=copy,\n",
      "c:\\Users\\maryi\\anaconda3\\Lib\\site-packages\\sklearn\\linear_model\\_coordinate_descent.py:658: ConvergenceWarning: Objective did not converge. You might want to increase the number of iterations. Duality gap: 167655732503.8954, tolerance: 696659484.3571945\n",
      "  model = cd_fast.sparse_enet_coordinate_descent(\n",
      "c:\\Users\\maryi\\anaconda3\\Lib\\site-packages\\sklearn\\linear_model\\_coordinate_descent.py:658: ConvergenceWarning: Objective did not converge. You might want to increase the number of iterations. Duality gap: 127577379034.81677, tolerance: 537415025.1745833\n",
      "  model = cd_fast.sparse_enet_coordinate_descent(\n",
      "c:\\Users\\maryi\\anaconda3\\Lib\\site-packages\\sklearn\\linear_model\\_coordinate_descent.py:658: ConvergenceWarning: Objective did not converge. You might want to increase the number of iterations. Duality gap: 119061729668.25824, tolerance: 572016182.2224233\n",
      "  model = cd_fast.sparse_enet_coordinate_descent(\n",
      "c:\\Users\\maryi\\anaconda3\\Lib\\site-packages\\sklearn\\linear_model\\_coordinate_descent.py:658: ConvergenceWarning: Objective did not converge. You might want to increase the number of iterations. Duality gap: 50081731967.03223, tolerance: 525605188.80204767\n",
      "  model = cd_fast.sparse_enet_coordinate_descent(\n",
      "c:\\Users\\maryi\\anaconda3\\Lib\\site-packages\\sklearn\\linear_model\\_coordinate_descent.py:658: ConvergenceWarning: Objective did not converge. You might want to increase the number of iterations. Duality gap: 140496817538.0556, tolerance: 571614666.2949619\n",
      "  model = cd_fast.sparse_enet_coordinate_descent(\n"
     ]
    },
    {
     "name": "stdout",
     "output_type": "stream",
     "text": [
      "Best parameters: {'stacking__final_estimator__fit_intercept': True, 'stacking__lasso__alpha': 0.1, 'stacking__ridge__alpha': 1.0, 'stacking__xgb__learning_rate': 0.05, 'stacking__xgb__n_estimators': 300}\n",
      "Best cross-validation R^2 score: -1031818034.3584417\n"
     ]
    },
    {
     "name": "stderr",
     "output_type": "stream",
     "text": [
      "c:\\Users\\maryi\\anaconda3\\Lib\\site-packages\\sklearn\\linear_model\\_coordinate_descent.py:658: ConvergenceWarning: Objective did not converge. You might want to increase the number of iterations. Duality gap: 140939895627.68185, tolerance: 579592113.9945961\n",
      "  model = cd_fast.sparse_enet_coordinate_descent(\n"
     ]
    }
   ],
   "source": [
    "# Fit grid search on the training data\n",
    "grid_search.fit(X_train, y_train)\n",
    "\n",
    "# Output the best hyperparameters and score\n",
    "print(\"Best parameters:\", grid_search.best_params_)\n",
    "print(\"Best cross-validation R^2 score:\", grid_search.best_score_)"
   ]
  },
  {
   "cell_type": "code",
   "execution_count": 74,
   "metadata": {},
   "outputs": [],
   "source": [
    "from sklearn.metrics import mean_squared_error, r2_score,root_mean_squared_error"
   ]
  },
  {
   "cell_type": "code",
   "execution_count": 75,
   "metadata": {},
   "outputs": [],
   "source": [
    "\n",
    "y_pred = grid_search.predict(X_test)\n",
    "mse = mean_squared_error(y_test, y_pred)\n",
    "rmse = root_mean_squared_error(y_test, y_pred)\n",
    "r2 = r2_score(y_test, y_pred)\n"
   ]
  },
  {
   "cell_type": "code",
   "execution_count": 76,
   "metadata": {},
   "outputs": [
    {
     "data": {
      "text/plain": [
       "28034.669817964044"
      ]
     },
     "execution_count": 76,
     "metadata": {},
     "output_type": "execute_result"
    }
   ],
   "source": [
    "rmse"
   ]
  },
  {
   "cell_type": "code",
   "execution_count": 77,
   "metadata": {},
   "outputs": [
    {
     "data": {
      "text/plain": [
       "0.8975346431725638"
      ]
     },
     "execution_count": 77,
     "metadata": {},
     "output_type": "execute_result"
    }
   ],
   "source": [
    "r2"
   ]
  },
  {
   "cell_type": "code",
   "execution_count": null,
   "metadata": {},
   "outputs": [],
   "source": []
  },
  {
   "cell_type": "code",
   "execution_count": 58,
   "metadata": {},
   "outputs": [
    {
     "data": {
      "image/png": "[encoded data removed]",
      "text/plain": [
       "<Figure size 1000x600 with 1 Axes>"
      ]
     },
     "metadata": {},
     "output_type": "display_data"
    }
   ],
   "source": [
    "# Feature importance plot using the best model\n",
    "\n",
    "# Scatter plot of predicted vs actual values\n",
    "plt.figure(figsize=(10, 6))\n",
    "plt.scatter(y_test, y_pred, alpha=0.5)\n",
    "plt.plot([y_test.min(), y_test.max()], [y_test.min(), y_test.max()], 'r--', lw=2)\n",
    "plt.xlabel('Actual Sale Price')\n",
    "plt.ylabel('Predicted Sale Price')\n",
    "plt.title('Actual vs Predicted Sale Prices')\n",
    "plt.tight_layout()\n",
    "plt.show()"
   ]
  },
  {
   "cell_type": "code",
   "execution_count": null,
   "metadata": {},
   "outputs": [],
   "source": []
  }
 ],
 "metadata": {
  "kernelspec": {
   "display_name": "base",
   "language": "python",
   "name": "python3"
  },
  "language_info": {
   "codemirror_mode": {
    "name": "ipython",
    "version": 3
   },
   "file_extension": ".py",
   "mimetype": "text/x-python",
   "name": "python",
   "nbconvert_exporter": "python",
   "pygments_lexer": "ipython3",
   "version": "3.12.7"
  }
 },
 "nbformat": 4,
 "nbformat_minor": 2
}
